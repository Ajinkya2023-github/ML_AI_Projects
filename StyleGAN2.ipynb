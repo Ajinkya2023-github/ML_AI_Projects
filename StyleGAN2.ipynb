{
  "cells": [
    {
      "cell_type": "markdown",
      "metadata": {
        "id": "view-in-github",
        "colab_type": "text"
      },
      "source": [
        "<a href=\"https://colab.research.google.com/github/Ajinkya2023-github/ML_AI_Projects/blob/main/StyleGAN2.ipynb\" target=\"_parent\"><img src=\"https://colab.research.google.com/assets/colab-badge.svg\" alt=\"Open In Colab\"/></a>"
      ]
    },
    {
      "cell_type": "markdown",
      "metadata": {
        "id": "svdssPETh25C"
      },
      "source": [
        "## StyleGAN2 with adaptive discriminator augmentation (ADA)"
      ]
    },
    {
      "cell_type": "markdown",
      "source": [
        "[NVIDIA system requirement for StyleGAN2 ADA](https://github.com/NVlabs/stylegan2-ada)"
      ],
      "metadata": {
        "id": "EoQ9Il-QiAzn"
      }
    },
    {
      "cell_type": "markdown",
      "source": [
        "StyleGAN2 - ADA [Adaptive Discriminator Augmentation] model was created by NVIDIA to avoid the problem of overfitting in the discriminator when the datasets are small.\n",
        "*   Better results for datasets with less than 30,000 training images.\n",
        "*   1.6x faster training.\n",
        "*   1.5x lower GPU memory consumption.\n",
        "\n",
        "\n"
      ],
      "metadata": {
        "id": "cGECv9_okM8v"
      }
    },
    {
      "cell_type": "code",
      "execution_count": 1,
      "metadata": {
        "id": "5ZHjlcQP2xQu",
        "colab": {
          "base_uri": "https://localhost:8080/"
        },
        "outputId": "06bb825c-4fb7-494c-9d40-56045196ae90"
      },
      "outputs": [
        {
          "output_type": "stream",
          "name": "stdout",
          "text": [
            "fatal: destination path 'stylegan2-ada' already exists and is not an empty directory.\n"
          ]
        }
      ],
      "source": [
        "# Clone the StyleGAN2-ADA repository and go inside the directory\n",
        "\n",
        "!git clone https://github.com/NVlabs/stylegan2-ada.git"
      ]
    },
    {
      "cell_type": "code",
      "execution_count": 2,
      "metadata": {
        "colab": {
          "base_uri": "https://localhost:8080/"
        },
        "id": "G2fnTPv826h3",
        "outputId": "2b2c6b7b-dad9-44d6-ce08-375d654f9f66"
      },
      "outputs": [
        {
          "output_type": "execute_result",
          "data": {
            "text/plain": [
              "True"
            ]
          },
          "metadata": {},
          "execution_count": 2
        }
      ],
      "source": [
        "import os\n",
        "# !mkdir stylegan2_ada\n",
        "os.path.exists(\"/content/stylegan2-ada\")\n"
      ]
    },
    {
      "cell_type": "markdown",
      "metadata": {
        "id": "Dwnt6nVDh25K"
      },
      "source": [
        "# CUSTOM DATASET"
      ]
    },
    {
      "cell_type": "markdown",
      "metadata": {
        "id": "TwUvdDCK5LEN"
      },
      "source": [
        "Code needs the dataset to be in .tfrecords format. Convert our dataset to this format using the StyleGAN2 conversion script."
      ]
    },
    {
      "cell_type": "code",
      "source": [
        "!pip install kaggle"
      ],
      "metadata": {
        "colab": {
          "base_uri": "https://localhost:8080/"
        },
        "id": "hGvAjhlpjtCr",
        "outputId": "b61ecc81-3a78-4a9f-cb73-afd7121673b0"
      },
      "execution_count": 3,
      "outputs": [
        {
          "output_type": "stream",
          "name": "stdout",
          "text": [
            "Requirement already satisfied: kaggle in /usr/local/lib/python3.11/dist-packages (1.7.4.2)\n",
            "Requirement already satisfied: bleach in /usr/local/lib/python3.11/dist-packages (from kaggle) (6.2.0)\n",
            "Requirement already satisfied: certifi>=14.05.14 in /usr/local/lib/python3.11/dist-packages (from kaggle) (2025.1.31)\n",
            "Requirement already satisfied: charset-normalizer in /usr/local/lib/python3.11/dist-packages (from kaggle) (3.4.1)\n",
            "Requirement already satisfied: idna in /usr/local/lib/python3.11/dist-packages (from kaggle) (3.10)\n",
            "Requirement already satisfied: protobuf in /usr/local/lib/python3.11/dist-packages (from kaggle) (5.29.4)\n",
            "Requirement already satisfied: python-dateutil>=2.5.3 in /usr/local/lib/python3.11/dist-packages (from kaggle) (2.8.2)\n",
            "Requirement already satisfied: python-slugify in /usr/local/lib/python3.11/dist-packages (from kaggle) (8.0.4)\n",
            "Requirement already satisfied: requests in /usr/local/lib/python3.11/dist-packages (from kaggle) (2.32.3)\n",
            "Requirement already satisfied: setuptools>=21.0.0 in /usr/local/lib/python3.11/dist-packages (from kaggle) (75.2.0)\n",
            "Requirement already satisfied: six>=1.10 in /usr/local/lib/python3.11/dist-packages (from kaggle) (1.17.0)\n",
            "Requirement already satisfied: text-unidecode in /usr/local/lib/python3.11/dist-packages (from kaggle) (1.3)\n",
            "Requirement already satisfied: tqdm in /usr/local/lib/python3.11/dist-packages (from kaggle) (4.67.1)\n",
            "Requirement already satisfied: urllib3>=1.15.1 in /usr/local/lib/python3.11/dist-packages (from kaggle) (2.3.0)\n",
            "Requirement already satisfied: webencodings in /usr/local/lib/python3.11/dist-packages (from kaggle) (0.5.1)\n"
          ]
        }
      ]
    },
    {
      "cell_type": "code",
      "source": [
        "!mkdir \"/content/animals10/\"\n",
        "os.path.exists(\"/content/animals10\")"
      ],
      "metadata": {
        "colab": {
          "base_uri": "https://localhost:8080/"
        },
        "id": "8xA7M_tqnnIH",
        "outputId": "3e302e1b-161d-4e34-e99e-829b395c5b33"
      },
      "execution_count": 4,
      "outputs": [
        {
          "output_type": "stream",
          "name": "stdout",
          "text": [
            "mkdir: cannot create directory ‘/content/animals10/’: File exists\n"
          ]
        },
        {
          "output_type": "execute_result",
          "data": {
            "text/plain": [
              "True"
            ]
          },
          "metadata": {},
          "execution_count": 4
        }
      ]
    },
    {
      "cell_type": "code",
      "source": [
        "os.path.abspath(\"kaggle.json\")"
      ],
      "metadata": {
        "colab": {
          "base_uri": "https://localhost:8080/",
          "height": 35
        },
        "id": "68xIhLFfo-TX",
        "outputId": "0d11cbd3-3476-4466-a066-afd960fc57d6"
      },
      "execution_count": 5,
      "outputs": [
        {
          "output_type": "execute_result",
          "data": {
            "text/plain": [
              "'/content/kaggle.json'"
            ],
            "application/vnd.google.colaboratory.intrinsic+json": {
              "type": "string"
            }
          },
          "metadata": {},
          "execution_count": 5
        }
      ]
    },
    {
      "cell_type": "code",
      "source": [
        "# Upload kaggle key\n",
        "import shutil\n",
        "from google.colab import files\n",
        "\n",
        "#files.upload()  #kaggle.json already uploaded\n"
      ],
      "metadata": {
        "colab": {
          "base_uri": "https://localhost:8080/",
          "height": 55
        },
        "id": "TTVeS30NmWK3",
        "outputId": "626b6f56-c5e8-404d-c2fb-0b7a32bc2224"
      },
      "execution_count": 6,
      "outputs": [
        {
          "output_type": "display_data",
          "data": {
            "text/plain": [
              "<IPython.core.display.HTML object>"
            ],
            "text/html": [
              "\n",
              "     <input type=\"file\" id=\"files-49a02576-7a38-4a85-8746-19b77970ce6a\" name=\"files[]\" multiple disabled\n",
              "        style=\"border:none\" />\n",
              "     <output id=\"result-49a02576-7a38-4a85-8746-19b77970ce6a\">\n",
              "      Upload widget is only available when the cell has been executed in the\n",
              "      current browser session. Please rerun this cell to enable.\n",
              "      </output>\n",
              "      <script>// Copyright 2017 Google LLC\n",
              "//\n",
              "// Licensed under the Apache License, Version 2.0 (the \"License\");\n",
              "// you may not use this file except in compliance with the License.\n",
              "// You may obtain a copy of the License at\n",
              "//\n",
              "//      http://www.apache.org/licenses/LICENSE-2.0\n",
              "//\n",
              "// Unless required by applicable law or agreed to in writing, software\n",
              "// distributed under the License is distributed on an \"AS IS\" BASIS,\n",
              "// WITHOUT WARRANTIES OR CONDITIONS OF ANY KIND, either express or implied.\n",
              "// See the License for the specific language governing permissions and\n",
              "// limitations under the License.\n",
              "\n",
              "/**\n",
              " * @fileoverview Helpers for google.colab Python module.\n",
              " */\n",
              "(function(scope) {\n",
              "function span(text, styleAttributes = {}) {\n",
              "  const element = document.createElement('span');\n",
              "  element.textContent = text;\n",
              "  for (const key of Object.keys(styleAttributes)) {\n",
              "    element.style[key] = styleAttributes[key];\n",
              "  }\n",
              "  return element;\n",
              "}\n",
              "\n",
              "// Max number of bytes which will be uploaded at a time.\n",
              "const MAX_PAYLOAD_SIZE = 100 * 1024;\n",
              "\n",
              "function _uploadFiles(inputId, outputId) {\n",
              "  const steps = uploadFilesStep(inputId, outputId);\n",
              "  const outputElement = document.getElementById(outputId);\n",
              "  // Cache steps on the outputElement to make it available for the next call\n",
              "  // to uploadFilesContinue from Python.\n",
              "  outputElement.steps = steps;\n",
              "\n",
              "  return _uploadFilesContinue(outputId);\n",
              "}\n",
              "\n",
              "// This is roughly an async generator (not supported in the browser yet),\n",
              "// where there are multiple asynchronous steps and the Python side is going\n",
              "// to poll for completion of each step.\n",
              "// This uses a Promise to block the python side on completion of each step,\n",
              "// then passes the result of the previous step as the input to the next step.\n",
              "function _uploadFilesContinue(outputId) {\n",
              "  const outputElement = document.getElementById(outputId);\n",
              "  const steps = outputElement.steps;\n",
              "\n",
              "  const next = steps.next(outputElement.lastPromiseValue);\n",
              "  return Promise.resolve(next.value.promise).then((value) => {\n",
              "    // Cache the last promise value to make it available to the next\n",
              "    // step of the generator.\n",
              "    outputElement.lastPromiseValue = value;\n",
              "    return next.value.response;\n",
              "  });\n",
              "}\n",
              "\n",
              "/**\n",
              " * Generator function which is called between each async step of the upload\n",
              " * process.\n",
              " * @param {string} inputId Element ID of the input file picker element.\n",
              " * @param {string} outputId Element ID of the output display.\n",
              " * @return {!Iterable<!Object>} Iterable of next steps.\n",
              " */\n",
              "function* uploadFilesStep(inputId, outputId) {\n",
              "  const inputElement = document.getElementById(inputId);\n",
              "  inputElement.disabled = false;\n",
              "\n",
              "  const outputElement = document.getElementById(outputId);\n",
              "  outputElement.innerHTML = '';\n",
              "\n",
              "  const pickedPromise = new Promise((resolve) => {\n",
              "    inputElement.addEventListener('change', (e) => {\n",
              "      resolve(e.target.files);\n",
              "    });\n",
              "  });\n",
              "\n",
              "  const cancel = document.createElement('button');\n",
              "  inputElement.parentElement.appendChild(cancel);\n",
              "  cancel.textContent = 'Cancel upload';\n",
              "  const cancelPromise = new Promise((resolve) => {\n",
              "    cancel.onclick = () => {\n",
              "      resolve(null);\n",
              "    };\n",
              "  });\n",
              "\n",
              "  // Wait for the user to pick the files.\n",
              "  const files = yield {\n",
              "    promise: Promise.race([pickedPromise, cancelPromise]),\n",
              "    response: {\n",
              "      action: 'starting',\n",
              "    }\n",
              "  };\n",
              "\n",
              "  cancel.remove();\n",
              "\n",
              "  // Disable the input element since further picks are not allowed.\n",
              "  inputElement.disabled = true;\n",
              "\n",
              "  if (!files) {\n",
              "    return {\n",
              "      response: {\n",
              "        action: 'complete',\n",
              "      }\n",
              "    };\n",
              "  }\n",
              "\n",
              "  for (const file of files) {\n",
              "    const li = document.createElement('li');\n",
              "    li.append(span(file.name, {fontWeight: 'bold'}));\n",
              "    li.append(span(\n",
              "        `(${file.type || 'n/a'}) - ${file.size} bytes, ` +\n",
              "        `last modified: ${\n",
              "            file.lastModifiedDate ? file.lastModifiedDate.toLocaleDateString() :\n",
              "                                    'n/a'} - `));\n",
              "    const percent = span('0% done');\n",
              "    li.appendChild(percent);\n",
              "\n",
              "    outputElement.appendChild(li);\n",
              "\n",
              "    const fileDataPromise = new Promise((resolve) => {\n",
              "      const reader = new FileReader();\n",
              "      reader.onload = (e) => {\n",
              "        resolve(e.target.result);\n",
              "      };\n",
              "      reader.readAsArrayBuffer(file);\n",
              "    });\n",
              "    // Wait for the data to be ready.\n",
              "    let fileData = yield {\n",
              "      promise: fileDataPromise,\n",
              "      response: {\n",
              "        action: 'continue',\n",
              "      }\n",
              "    };\n",
              "\n",
              "    // Use a chunked sending to avoid message size limits. See b/62115660.\n",
              "    let position = 0;\n",
              "    do {\n",
              "      const length = Math.min(fileData.byteLength - position, MAX_PAYLOAD_SIZE);\n",
              "      const chunk = new Uint8Array(fileData, position, length);\n",
              "      position += length;\n",
              "\n",
              "      const base64 = btoa(String.fromCharCode.apply(null, chunk));\n",
              "      yield {\n",
              "        response: {\n",
              "          action: 'append',\n",
              "          file: file.name,\n",
              "          data: base64,\n",
              "        },\n",
              "      };\n",
              "\n",
              "      let percentDone = fileData.byteLength === 0 ?\n",
              "          100 :\n",
              "          Math.round((position / fileData.byteLength) * 100);\n",
              "      percent.textContent = `${percentDone}% done`;\n",
              "\n",
              "    } while (position < fileData.byteLength);\n",
              "  }\n",
              "\n",
              "  // All done.\n",
              "  yield {\n",
              "    response: {\n",
              "      action: 'complete',\n",
              "    }\n",
              "  };\n",
              "}\n",
              "\n",
              "scope.google = scope.google || {};\n",
              "scope.google.colab = scope.google.colab || {};\n",
              "scope.google.colab._files = {\n",
              "  _uploadFiles,\n",
              "  _uploadFilesContinue,\n",
              "};\n",
              "})(self);\n",
              "</script> "
            ]
          },
          "metadata": {}
        },
        {
          "output_type": "execute_result",
          "data": {
            "text/plain": [
              "{}"
            ]
          },
          "metadata": {},
          "execution_count": 6
        }
      ]
    },
    {
      "cell_type": "code",
      "source": [
        "import kagglehub\n",
        "# Move the Kaggle API key to the appropriate directory\n",
        "# Create the .kaggle directory if not exists\n",
        "os.makedirs(\"/root/.config/kaggle\", exist_ok=True)\n",
        "\n",
        "kaggle_path = \"/content/kaggle.json\"\n",
        "\n",
        "# Move the kaggle file to .config/kaggle\n",
        "if (os.path.exists(kaggle_path)):\n",
        "  shutil.move(kaggle_path, \"/root/.config/kaggle/kaggle.json\")\n",
        "\n",
        "else:\n",
        "  print(\"Kaggle.json not found!\")\n",
        "\n",
        "# Set permissions to avoid access errors\n",
        "os.chmod(\"/root/.config/kaggle/kaggle.json\", 600)\n",
        "\n",
        "#Download the dataset\n",
        "from kaggle.api.kaggle_api_extended import KaggleApi\n",
        "api = KaggleApi()\n",
        "api.authenticate()\n",
        "kagglehub.dataset_download(\"alessiocorrado99/animals10\")"
      ],
      "metadata": {
        "colab": {
          "base_uri": "https://localhost:8080/",
          "height": 53
        },
        "id": "0oSN6EIDsBYr",
        "outputId": "faa6d4db-cf24-48cb-9bc9-0a2687328986"
      },
      "execution_count": 7,
      "outputs": [
        {
          "output_type": "stream",
          "name": "stdout",
          "text": [
            "Kaggle.json not found!\n"
          ]
        },
        {
          "output_type": "execute_result",
          "data": {
            "text/plain": [
              "'/kaggle/input/animals10'"
            ],
            "application/vnd.google.colaboratory.intrinsic+json": {
              "type": "string"
            }
          },
          "metadata": {},
          "execution_count": 7
        }
      ]
    },
    {
      "cell_type": "markdown",
      "metadata": {
        "id": "BZn4ElyNh25L"
      },
      "source": [
        "# RESIZING THE IMAGES"
      ]
    },
    {
      "cell_type": "code",
      "source": [
        "#os.makedirs(\"/content/stylegan2-ada/resized\")\n",
        "output_folder = \"/content/stylegan2-ada/resized\""
      ],
      "metadata": {
        "id": "j7sfNCh2u-gf"
      },
      "execution_count": 12,
      "outputs": []
    },
    {
      "cell_type": "code",
      "execution_count": null,
      "metadata": {
        "id": "sF-qfAkJ-Xwc",
        "collapsed": true
      },
      "outputs": [],
      "source": [
        "\n",
        "import cv2\n",
        "import os\n",
        "\n",
        "# We are using animals10 dataset from kaggle for this project\n",
        "file_path = '/kaggle/input/animals10/raw-img'\n",
        "\n",
        "\n",
        "im_size = 1024   # Input image resolution must be a power-of-two otherwise you will get error.\n",
        "                 #Pixel resolutions that are powers of 2 (512 x 512, 1024 x 1024, 2048 x 2048, etc).\n",
        "\n",
        "\n",
        "\n",
        "os.makedirs(output_folder, exist_ok = True)\n",
        "\n",
        "images = []\n",
        "\n",
        "folder_path = []\n",
        "\n",
        "for folder in os.listdir(file_path):\n",
        "    folder_path.append(os.path.join(file_path, folder))\n",
        "\n",
        "for folder in folder_path:\n",
        "    if not os.path.isdir(folder):\n",
        "      continue\n",
        "    for file in os.listdir(folder):\n",
        "          img_path = os.path.join(folder, file)\n",
        "          img = cv2.imread(img_path)  # Load image\n",
        "          if img is None:                             # Skip if the file is not a valid image\n",
        "            print(f\"❌ Could not read {img_path}, skipping...\")\n",
        "            continue\n",
        "          img = cv2.cvtColor(img, cv2.COLOR_BGR2RGB)  # Convert BGR to RGB (for proper display)\n",
        "\n",
        "\n",
        "          img = cv2.resize(img, (im_size, im_size))\n",
        "          #print(f\"✅ Processed: {file}, Shape: {img.shape}\")\n",
        "\n",
        "          images.append(img)\n",
        "          # Save the image in Output Folder\n",
        "          save_path = os.path.join(output_folder, file.split('.')[0] + \"_resized.jpg\")\n",
        "          cv2.imwrite('/content/stylegan2-ada/resized' + str(file) + '_resized.jpg', img)\n",
        "          #print(f\"💾 Saved: {save_path}\")\n"
      ]
    },
    {
      "cell_type": "code",
      "source": [
        "import os\n",
        "#resized image folder size\n",
        "resized_img_path = \"/content/stylegan2-ada/resized\"\n",
        "print(len(resized_img_path))\n",
        "os.listdir(\"/content/stylegan2-ada/resized\")"
      ],
      "metadata": {
        "colab": {
          "base_uri": "https://localhost:8080/"
        },
        "id": "lEZYUBWBBtS5",
        "outputId": "7bde4a62-1ec5-4e08-9a3e-7914115b1bc3"
      },
      "execution_count": 4,
      "outputs": [
        {
          "output_type": "stream",
          "name": "stdout",
          "text": [
            "30\n"
          ]
        },
        {
          "output_type": "execute_result",
          "data": {
            "text/plain": [
              "[]"
            ]
          },
          "metadata": {},
          "execution_count": 4
        }
      ]
    },
    {
      "cell_type": "markdown",
      "metadata": {
        "id": "UGwwHbOXh25N"
      },
      "source": [
        "### Converting images into .tfrecords"
      ]
    },
    {
      "cell_type": "code",
      "execution_count": null,
      "metadata": {
        "id": "nAloDQez5vu3"
      },
      "outputs": [],
      "source": [
        "# Below command will create a multi-resolution .tfrecord file in /custom_dataset/tfrecords_dataset/ folder.\n",
        "!pip install tqdm\n",
        "\n",
        "\n",
        "!python dataset_tool.py create_from_images custom_dataset/tfrecords_dataset/ custom_dataset/resized_dataset\n"
      ]
    },
    {
      "cell_type": "code",
      "execution_count": null,
      "metadata": {
        "id": "rSPgyXVP-S-T"
      },
      "outputs": [],
      "source": [
        "#Training StyleGAN2-ADA\n",
        "\n",
        "# snap is how often you want to save the model and sample results\n",
        "# res is what image resolution you want to train on\n",
        "# augpipe is augmentation pipes, such as 'blit', 'geom', 'color', 'filter', 'noise', 'cutout' or combination of these\n",
        "\n",
        "\n",
        "\n",
        "!python train.py --outdir ./results --snap=10 --data=custom_dataset/tfrecords_dataset --augpipe=bgcfnc --res=512\n"
      ]
    },
    {
      "cell_type": "code",
      "execution_count": null,
      "metadata": {
        "id": "frkh4DR2Fvxl"
      },
      "outputs": [],
      "source": [
        "# There are many other arguments that you can modify, feel free to check the train.py code to learn more about the arguments.\n",
        "# Once you run the command, it will start training and periodically save the result and the model file (.pkl) based on the snap arguments\n",
        "# that you provided (In this case, every 10kimg). Once you think that the result is good enough or the FID starts to plateau, you can stop training and use the last saved .pkl file.\n",
        "\n",
        "# Once you have the model file you can generate images using this command.\n",
        "\n",
        "#!python generate.py --outdir=out --trunc=0.5 --seeds=600-605 --network={path_to_pkl_model_file}"
      ]
    },
    {
      "cell_type": "markdown",
      "metadata": {
        "id": "1Vybo5B_Hv5y"
      },
      "source": [
        "Pretrained Model Training"
      ]
    },
    {
      "cell_type": "markdown",
      "metadata": {
        "id": "ivGEyL3Eh25R"
      },
      "source": [
        "https://nvlabs-fi-cdn.nvidia.com/stylegan2-ada/pretrained/"
      ]
    },
    {
      "cell_type": "code",
      "execution_count": null,
      "metadata": {
        "id": "6LY9sVB_h25R"
      },
      "outputs": [],
      "source": [
        "# Generate class conditional CIFAR-10 images (Fig.17 left, Car)\n",
        "#!python generate.py --outdir=out --trunc=1 --seeds=0-35 --class=1 --network=https://nvlabs-fi-cdn.nvidia.com/stylegan2-ada/pretrained/cifar10.pkl\n",
        "\n",
        "!python generate.py --outdir=out1 --trunc=1 --seeds=0-10 --class=1 --network=https://nvlabs-fi-cdn.nvidia.com/stylegan2-ada/pretrained/cifar10.pkl"
      ]
    },
    {
      "cell_type": "code",
      "execution_count": null,
      "metadata": {
        "id": "GEg9Sn-Sh25S"
      },
      "outputs": [],
      "source": []
    }
  ],
  "metadata": {
    "colab": {
      "provenance": [],
      "include_colab_link": true
    },
    "kernelspec": {
      "display_name": "Python 3",
      "name": "python3"
    },
    "language_info": {
      "codemirror_mode": {
        "name": "ipython",
        "version": 3
      },
      "file_extension": ".py",
      "mimetype": "text/x-python",
      "name": "python",
      "nbconvert_exporter": "python",
      "pygments_lexer": "ipython3",
      "version": "3.7.6"
    }
  },
  "nbformat": 4,
  "nbformat_minor": 0
}